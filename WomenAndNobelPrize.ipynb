{
  "nbformat": 4,
  "nbformat_minor": 0,
  "metadata": {
    "colab": {
      "name": "WomenAndNobelPrize.ipynb",
      "provenance": [],
      "collapsed_sections": [],
      "toc_visible": true,
      "authorship_tag": "ABX9TyMXvHWpRhxk2XY5mHy0Iozc",
      "include_colab_link": true
    },
    "kernelspec": {
      "name": "python3",
      "display_name": "Python 3"
    }
  },
  "cells": [
    {
      "cell_type": "markdown",
      "metadata": {
        "id": "view-in-github",
        "colab_type": "text"
      },
      "source": [
        "<a href=\"https://colab.research.google.com/github/Marisa33/Women_Nobel_Prize/blob/main/WomenAndNobelPrize.ipynb\" target=\"_parent\"><img src=\"https://colab.research.google.com/assets/colab-badge.svg\" alt=\"Open In Colab\"/></a>"
      ]
    },
    {
      "cell_type": "markdown",
      "metadata": {
        "id": "nPsU9PQJxuEO"
      },
      "source": [
        "# Proyección de las Mujeres en los Premios Nobel"
      ]
    },
    {
      "cell_type": "markdown",
      "metadata": {
        "id": "-o58nY0HydRa"
      },
      "source": [
        "Para poder utilizar el Jupyter Notebook desde otro sitio diferente al Colab, se necesita instalar las líbrerías. Para ello, con las siguientes líneas de código se puede realizar la instalación de las líbrerias utilizadas. Solo se deberá descomentar las líneas."
      ]
    },
    {
      "cell_type": "code",
      "metadata": {
        "id": "unKdMdi2xtwL"
      },
      "source": [
        "# To install the current version of the librarie NUMPY: \r\n",
        "# !pip install --upgrade numpy\r\n",
        "# To install the current version of the librarie PANDA: \r\n",
        "# !pip install --upgrade panda"
      ],
      "execution_count": null,
      "outputs": []
    },
    {
      "cell_type": "markdown",
      "metadata": {
        "id": "GfexT2VJylBg"
      },
      "source": [
        "Ahora se importaran todas aquellas librerías que necesitaremos a lo largo del proyecto."
      ]
    },
    {
      "cell_type": "code",
      "metadata": {
        "id": "-sWGYS7uymZp"
      },
      "source": [
        "import numpy as np\r\n",
        "import pandas as pd\r\n",
        "from matplotlib import pyplot as plt\r\n",
        "import io\r\n",
        "import requests"
      ],
      "execution_count": null,
      "outputs": []
    },
    {
      "cell_type": "markdown",
      "metadata": {
        "id": "9QvbjYru2zKN"
      },
      "source": [
        "https://github.com/Marisa33/Women_Nobel_Prize\r\n",
        "\r\n"
      ]
    },
    {
      "cell_type": "code",
      "metadata": {
        "id": "CyknZliz7JRy",
        "colab": {
          "base_uri": "https://localhost:8080/"
        },
        "outputId": "51b5adff-2266-401a-bc77-a240b75de11b"
      },
      "source": [
        " #!wget https://raw.githubusercontent.com/Marisa33/Women_Nobel_Prize/main/nobel_prize_awarded_1901_2019.csv"
      ],
      "execution_count": null,
      "outputs": [
        {
          "output_type": "stream",
          "text": [
            "--2021-02-16 07:44:05--  https://github.com/Marisa33/Women_Nobel_Prize/blob/main/nobel_prize_awarded_1901_2019.csv\n",
            "Resolving github.com (github.com)... 140.82.121.3\n",
            "Connecting to github.com (github.com)|140.82.121.3|:443... connected.\n",
            "HTTP request sent, awaiting response... 200 OK\n",
            "Length: unspecified [text/html]\n",
            "Saving to: ‘nobel_prize_awarded_1901_2019.csv.1’\n",
            "\n",
            "nobel_prize_awarded     [ <=>                ] 433.45K  --.-KB/s    in 0.04s   \n",
            "\n",
            "2021-02-16 07:44:05 (9.82 MB/s) - ‘nobel_prize_awarded_1901_2019.csv.1’ saved [443855]\n",
            "\n"
          ],
          "name": "stdout"
        }
      ]
    },
    {
      "cell_type": "code",
      "metadata": {
        "colab": {
          "base_uri": "https://localhost:8080/"
        },
        "id": "FW4pCN0BvKb2",
        "outputId": "4fb5cfa4-1557-47f9-f577-b5543f4d4e7b"
      },
      "source": [
        "df = pd.read_csv('https://raw.githubusercontent.com/Marisa33/Women_Nobel_Prize/main/nobel_prize_awarded_1901_2019.csv')\r\n",
        "df.info()"
      ],
      "execution_count": null,
      "outputs": [
        {
          "output_type": "stream",
          "text": [
            "<class 'pandas.core.frame.DataFrame'>\n",
            "RangeIndex: 948 entries, 0 to 947\n",
            "Data columns (total 7 columns):\n",
            " #   Column       Non-Null Count  Dtype \n",
            "---  ------       --------------  ----- \n",
            " 0   Name         948 non-null    object\n",
            " 1   Year         948 non-null    int64 \n",
            " 2   Category     948 non-null    object\n",
            " 3   Countries    948 non-null    object\n",
            " 4   Gender       948 non-null    object\n",
            " 5   Description  54 non-null     object\n",
            " 6   Details      15 non-null     object\n",
            "dtypes: int64(1), object(6)\n",
            "memory usage: 52.0+ KB\n"
          ],
          "name": "stdout"
        }
      ]
    }
  ]
}