{
  "nbformat": 4,
  "nbformat_minor": 0,
  "metadata": {
    "colab": {
      "name": "WomenAndNobelPrize.ipynb",
      "provenance": [],
      "collapsed_sections": [],
      "authorship_tag": "ABX9TyN1sN7HjpHwLfDrjaL7mUXi",
      "include_colab_link": true
    },
    "kernelspec": {
      "name": "python3",
      "display_name": "Python 3"
    }
  },
  "cells": [
    {
      "cell_type": "markdown",
      "metadata": {
        "id": "view-in-github",
        "colab_type": "text"
      },
      "source": [
        "<a href=\"https://colab.research.google.com/github/Marisa33/Women_Nobel_Prize/blob/main/WomenAndNobelPrize.ipynb\" target=\"_parent\"><img src=\"https://colab.research.google.com/assets/colab-badge.svg\" alt=\"Open In Colab\"/></a>"
      ]
    },
    {
      "cell_type": "markdown",
      "metadata": {
        "id": "nPsU9PQJxuEO"
      },
      "source": [
        "# Proyección de las Mujeres en los Premios Nobel"
      ]
    },
    {
      "cell_type": "markdown",
      "metadata": {
        "id": "-o58nY0HydRa"
      },
      "source": [
        "Para poder utilizar el Jupyter Notebook desde otro sitio diferente al Colab, se necesita instalar las líbrerías. Para ello, con las siguientes líneas de código se puede realizar la instalación de las líbrerias utilizadas. Solo se deberá descomentar las líneas."
      ]
    },
    {
      "cell_type": "code",
      "metadata": {
        "id": "unKdMdi2xtwL"
      },
      "source": [
        "# To install the current version of the librarie NUMPY: \r\n",
        "# !pip install --upgrade numpy\r\n",
        "# To install the current version of the librarie PANDA: \r\n",
        "# !pip install --upgrade panda"
      ],
      "execution_count": null,
      "outputs": []
    },
    {
      "cell_type": "markdown",
      "metadata": {
        "id": "GfexT2VJylBg"
      },
      "source": [
        "Ahora se importaran todas aquellas librerías que necesitaremos a lo largo del proyecto."
      ]
    },
    {
      "cell_type": "code",
      "metadata": {
        "id": "-sWGYS7uymZp"
      },
      "source": [
        "import numpy as np\r\n",
        "import pandas as pd\r\n",
        "from matplotlib import pyplot as plt"
      ],
      "execution_count": null,
      "outputs": []
    },
    {
      "cell_type": "code",
      "metadata": {
        "colab": {
          "base_uri": "https://localhost:8080/"
        },
        "id": "aGRAzOd01WZe",
        "outputId": "bff080aa-751b-4092-cba0-e391ab88f442"
      },
      "source": [
        "print ('Hello')"
      ],
      "execution_count": 2,
      "outputs": [
        {
          "output_type": "stream",
          "text": [
            "Hello\n"
          ],
          "name": "stdout"
        }
      ]
    }
  ]
}